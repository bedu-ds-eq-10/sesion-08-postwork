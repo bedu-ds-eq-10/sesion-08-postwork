{
 "cells": [
  {
   "cell_type": "markdown",
   "id": "9193df13",
   "metadata": {},
   "source": [
    "# Sesión 8 - Postwork\n",
    "\n",
    "Un centro de salud nutricional está interesado en analizar estadística y \n",
    "probabilísticamente los patrones de gasto en alimentos saludables y no saludables\n",
    "en los hogares mexicanos con base en su nivel socioeconómico, en si el hogar tiene\n",
    "recursos financieros extra al ingreso y en si presenta o no inseguridad alimentaria.\n",
    "Además, está interesado en un modelo que le permita identificar los determinantes socioeconómicos de la inseguridad alimentaria.\n",
    "\n",
    "La base de datos es un extracto de la Encuesta Nacional de Salud y Nutrición (2012) levantada por el Instituto Nacional de Salud Pública en México. La mayoría de las personas afirman que los hogares con menor nivel socioeconómico tienden a gastar más en productos no saludables que las personas con mayores niveles socioeconómicos y que esto, entre otros determinantes, lleva a que un hogar presente cierta inseguridad alimentaria.\n",
    "\n",
    "La base de datos contiene las siguientes variables:\n",
    "\n",
    "- `nse5f` (nivel socieconómico del hogar): 1 \"Bajo\", 2 \"Medio bajo\", 3 \"Medio\", 4 \"Medio alto\", 5 \"Alto\"\n",
    "- `area` (zona geográfica): 0 \"Zona urbana\", 1 \"Zona rural\"\n",
    "- `numpeho` (número de personas en el hogar)\n",
    "- `refin` (recursos financieros distintos al ingreso laboral): 0 \"no\", 1 \"sí\"\n",
    "- `edadjef` (edad del jefe/a de familia)\n",
    "- `sexoje` (sexo del jefe/a de familia): 0 \"Hombre\", 1 \"Mujer\"\n",
    "- `añosedu` (años de educación del jefe de familia)\n",
    "- `ln_als` (logarítmo natural del gasto en alimentos saludables)\n",
    "- `ln_alns` (logarítmo natural del gasto en alimentos no saludables)\n",
    "- `IA` (inseguridad alimentaria en el hogar): 0 \"No presenta IA\", 1 \"Presenta IA\"\n",
    "\n",
    "```R\n",
    "df <- read.csv(\"https://raw.githubusercontent.com/beduExpert/Programacion-R-Santander-2022/main/Sesion-08/Postwork/inseguridad_alimentaria_bedu.csv\")\n",
    "```\n",
    "\n",
    "1) Plantea el problema del caso\n",
    "2) Realiza un análisis descriptivo de la información\n",
    "3) Calcula probabilidades que nos permitan entender el problema en México\n",
    "4) Plantea hipótesis estadísticas y concluye sobre ellas para entender el problema en México\n",
    "5) Estima un modelo de regresión, lineal o logístico, para identificiar los determinanres de la inseguridad alimentaria en México\n",
    "6) Escribe tu análisis en un archivo README.MD y tu código en un script de R y publica ambos en un repositorio de Github.\n",
    "\n",
    "> NOTA: Todo tu planteamiento deberá estár correctamente desarrollado y deberás analizar e interpretar todos tus resultados para poder dar una conclusión final al problema planteado."
   ]
  },
  {
   "cell_type": "markdown",
   "id": "26905fc2",
   "metadata": {},
   "source": [
    "## 1) Planteamiento del problema del caso\n",
    "\n",
    "### Objetivos\n",
    "- Analizar patrones de gasto en alimentos saludables y no saludables en familias mexicanas con base en:\n",
    "    - el nivel socioeconómico\n",
    "    - disponibilidad de recursos financieros adicionales al ingreso\n",
    "    - presencia de inseguridad alimentaria\n",
    "- Elaborar un modelo que prediga la posibilidad de presentar inseguridad alimentaria (IA) con base en las variables disponibles en el extracto de la Encuesta Nacional de Salud y Nutrición 2012 (ENSANUT 2012)\n"
   ]
  },
  {
   "cell_type": "markdown",
   "id": "c842abff",
   "metadata": {},
   "source": [
    "## 2) Análisis descriptivo de la información\n",
    "\n",
    "Obtención de los datos"
   ]
  },
  {
   "cell_type": "code",
   "execution_count": 23,
   "id": "5a73d13a",
   "metadata": {},
   "outputs": [
    {
     "data": {
      "text/html": [
       "<table>\n",
       "<thead><tr><th scope=col>nse5f</th><th scope=col>area</th><th scope=col>numpeho</th><th scope=col>refin</th><th scope=col>edadjef</th><th scope=col>sexojef</th><th scope=col>añosedu</th><th scope=col>IA</th><th scope=col>ln_als</th><th scope=col>ln_alns</th></tr></thead>\n",
       "<tbody>\n",
       "\t<tr><td>5       </td><td>0       </td><td>4       </td><td>0       </td><td>43      </td><td> 0      </td><td>24      </td><td>0       </td><td>5.393628</td><td>      NA</td></tr>\n",
       "\t<tr><td>5       </td><td>0       </td><td>5       </td><td>1       </td><td>NA      </td><td>NA      </td><td>24      </td><td>0       </td><td>7.024649</td><td>      NA</td></tr>\n",
       "\t<tr><td>5       </td><td>0       </td><td>4       </td><td>0       </td><td>46      </td><td> 0      </td><td>24      </td><td>0       </td><td>6.767343</td><td>4.605170</td></tr>\n",
       "\t<tr><td>5       </td><td>1       </td><td>1       </td><td>0       </td><td>54      </td><td> 0      </td><td>24      </td><td>0       </td><td>3.401197</td><td>4.094345</td></tr>\n",
       "\t<tr><td>5       </td><td>0       </td><td>2       </td><td>1       </td><td>39      </td><td> 0      </td><td>24      </td><td>0       </td><td>6.115892</td><td>5.480639</td></tr>\n",
       "\t<tr><td>5       </td><td>0       </td><td>5       </td><td>1       </td><td>NA      </td><td>NA      </td><td>24      </td><td>0       </td><td>7.514800</td><td>5.598422</td></tr>\n",
       "</tbody>\n",
       "</table>\n"
      ],
      "text/latex": [
       "\\begin{tabular}{r|llllllllll}\n",
       " nse5f & area & numpeho & refin & edadjef & sexojef & añosedu & IA & ln\\_als & ln\\_alns\\\\\n",
       "\\hline\n",
       "\t 5        & 0        & 4        & 0        & 43       &  0       & 24       & 0        & 5.393628 &       NA\\\\\n",
       "\t 5        & 0        & 5        & 1        & NA       & NA       & 24       & 0        & 7.024649 &       NA\\\\\n",
       "\t 5        & 0        & 4        & 0        & 46       &  0       & 24       & 0        & 6.767343 & 4.605170\\\\\n",
       "\t 5        & 1        & 1        & 0        & 54       &  0       & 24       & 0        & 3.401197 & 4.094345\\\\\n",
       "\t 5        & 0        & 2        & 1        & 39       &  0       & 24       & 0        & 6.115892 & 5.480639\\\\\n",
       "\t 5        & 0        & 5        & 1        & NA       & NA       & 24       & 0        & 7.514800 & 5.598422\\\\\n",
       "\\end{tabular}\n"
      ],
      "text/markdown": [
       "\n",
       "| nse5f | area | numpeho | refin | edadjef | sexojef | añosedu | IA | ln_als | ln_alns |\n",
       "|---|---|---|---|---|---|---|---|---|---|\n",
       "| 5        | 0        | 4        | 0        | 43       |  0       | 24       | 0        | 5.393628 |       NA |\n",
       "| 5        | 0        | 5        | 1        | NA       | NA       | 24       | 0        | 7.024649 |       NA |\n",
       "| 5        | 0        | 4        | 0        | 46       |  0       | 24       | 0        | 6.767343 | 4.605170 |\n",
       "| 5        | 1        | 1        | 0        | 54       |  0       | 24       | 0        | 3.401197 | 4.094345 |\n",
       "| 5        | 0        | 2        | 1        | 39       |  0       | 24       | 0        | 6.115892 | 5.480639 |\n",
       "| 5        | 0        | 5        | 1        | NA       | NA       | 24       | 0        | 7.514800 | 5.598422 |\n",
       "\n"
      ],
      "text/plain": [
       "  nse5f area numpeho refin edadjef sexojef añosedu IA ln_als   ln_alns \n",
       "1 5     0    4       0     43       0      24      0  5.393628       NA\n",
       "2 5     0    5       1     NA      NA      24      0  7.024649       NA\n",
       "3 5     0    4       0     46       0      24      0  6.767343 4.605170\n",
       "4 5     1    1       0     54       0      24      0  3.401197 4.094345\n",
       "5 5     0    2       1     39       0      24      0  6.115892 5.480639\n",
       "6 5     0    5       1     NA      NA      24      0  7.514800 5.598422"
      ]
     },
     "metadata": {},
     "output_type": "display_data"
    }
   ],
   "source": [
    "url <- \"https://raw.githubusercontent.com/beduExpert/Programacion-R-Santander-2022/main/Sesion-08/Postwork/inseguridad_alimentaria_bedu.csv\"\n",
    "datos <- read.csv(url, encoding = \"UTF-8\")\n",
    "head(datos)"
   ]
  },
  {
   "cell_type": "markdown",
   "id": "f7579324",
   "metadata": {},
   "source": [
    "Para obtener un resumen estadístico de los datos, se convierten en factores las variables discretas."
   ]
  },
  {
   "cell_type": "code",
   "execution_count": 25,
   "id": "45e8c49d",
   "metadata": {},
   "outputs": [],
   "source": [
    "datos$nse5f <- factor(datos$nse5f,\n",
    "                      levels = 1:5,\n",
    "                      labels = c(\"Bajo\", \"Medio bajo\", \"Medio\", \"Medio alto\", \"Alto\"),\n",
    "                      ordered = TRUE\n",
    ")\n",
    "datos$area <- factor(datos$area,\n",
    "                     levels = 0:1,\n",
    "                     labels = c(\"Zona urbana\", \"Zona rural\")\n",
    ")\n",
    "datos$refin <- factor(datos$refin,\n",
    "                      levels = 0:1,\n",
    "                      labels = c(\"no\", \"sí\")\n",
    ")\n",
    "datos$sexoje <- factor(datos$sexoje,\n",
    "                       levels = 0:1,\n",
    "                       labels = c(\"Hombre\", \"Mujer\")\n",
    ")\n",
    "datos$IA <- factor(datos$IA,\n",
    "                   levels = 0:1,\n",
    "                   labels = c(\"No presenta IA\", \"Presenta IA\")\n",
    ")"
   ]
  },
  {
   "cell_type": "markdown",
   "id": "d279788a",
   "metadata": {},
   "source": [
    "Y, enseguida, el resumen estadístico."
   ]
  },
  {
   "cell_type": "code",
   "execution_count": 31,
   "id": "0196a1e4",
   "metadata": {},
   "outputs": [
    {
     "data": {
      "text/plain": [
       "        nse5f               area          numpeho       refin     \n",
       " Bajo      :8858   Zona urbana:26591   Min.   : 1.000   no:33046  \n",
       " Medio bajo:8560   Zona rural :14218   1st Qu.: 3.000   sí: 7763  \n",
       " Medio     :8323                       Median : 4.000             \n",
       " Medio alto:7903                       Mean   : 3.941             \n",
       " Alto      :7165                       3rd Qu.: 5.000             \n",
       "                                       Max.   :19.000             \n",
       "                                                                  \n",
       "    edadjef        sexojef         añosedu                   IA       \n",
       " Min.   : 18    Min.   :0.000   Min.   : 0.00   No presenta IA:10781  \n",
       " 1st Qu.: 37    1st Qu.:0.000   1st Qu.: 9.00   Presenta IA   :30028  \n",
       " Median : 47    Median :0.000   Median : 9.00                         \n",
       " Mean   : 49    Mean   :0.247   Mean   :10.36                         \n",
       " 3rd Qu.: 60    3rd Qu.:0.000   3rd Qu.:12.00                         \n",
       " Max.   :111    Max.   :1.000   Max.   :24.00                         \n",
       " NA's   :5017   NA's   :4991                                          \n",
       "     ln_als          ln_alns         sexoje     \n",
       " Min.   :0.6931   Min.   :0.000   Hombre:26957  \n",
       " 1st Qu.:5.7038   1st Qu.:3.401   Mujer : 8861  \n",
       " Median :6.1633   Median :4.025   NA's  : 4991  \n",
       " Mean   :6.0665   Mean   :4.125                 \n",
       " 3rd Qu.:6.5511   3rd Qu.:4.868                 \n",
       " Max.   :8.9699   Max.   :8.403                 \n",
       " NA's   :787      NA's   :17504                 "
      ]
     },
     "metadata": {},
     "output_type": "display_data"
    }
   ],
   "source": [
    "summary(datos)"
   ]
  }
 ],
 "metadata": {
  "kernelspec": {
   "display_name": "R",
   "language": "R",
   "name": "ir"
  },
  "language_info": {
   "codemirror_mode": "r",
   "file_extension": ".r",
   "mimetype": "text/x-r-source",
   "name": "R",
   "pygments_lexer": "r",
   "version": "3.6.1"
  }
 },
 "nbformat": 4,
 "nbformat_minor": 5
}
