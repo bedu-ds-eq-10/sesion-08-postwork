{
 "cells": [
  {
   "cell_type": "markdown",
   "id": "9193df13",
   "metadata": {},
   "source": [
    "# Análisis de los factores que influyen en la inseguridad alimentaria en México\n",
    "\n",
    "\n",
    "## Enunciado del problema\n",
    "\n",
    "Un centro de salud nutricional está interesado en analizar estadística y probabilísticamente los patrones de gasto en alimentos saludables y no saludables en los hogares mexicanos con base en su nivel socioeconómico, en si el hogar tiene recursos financieros extra al ingreso y en si presenta o no inseguridad alimentaria. Además, está interesado en un modelo que le permita identificar los determinantes socioeconómicos de la inseguridad alimentaria.\n",
    "\n",
    "La base de datos es un extracto de la Encuesta Nacional de Salud y Nutrición (2012) levantada por el Instituto Nacional de Salud Pública en México. La mayoría de las personas afirman que los hogares con menor nivel socioeconómico tienden a gastar más en productos no saludables que las personas con mayores niveles socioeconómicos y que esto, entre otros determinantes, lleva a que un hogar presente cierta inseguridad alimentaria.\n",
    "\n",
    "La base de datos contiene las siguientes variables:\n",
    "\n",
    "- `nse5f` (nivel socieconómico del hogar): 1 \"Bajo\", 2 \"Medio bajo\", 3 \"Medio\", 4 \"Medio alto\", 5 \"Alto\"\n",
    "- `area` (zona geográfica): 0 \"Zona urbana\", 1 \"Zona rural\"\n",
    "- `numpeho` (número de personas en el hogar)\n",
    "- `refin` (recursos financieros distintos al ingreso laboral): 0 \"no\", 1 \"sí\"\n",
    "- `edadjef` (edad del jefe/a de familia)\n",
    "- `sexojef` (sexo del jefe/a de familia): 0 \"Hombre\", 1 \"Mujer\"\n",
    "- `añosedu` (años de educación del jefe de familia)\n",
    "- `ln_als` (logarítmo natural del gasto en alimentos saludables)\n",
    "- `ln_alns` (logarítmo natural del gasto en alimentos no saludables)\n",
    "- `IA` (inseguridad alimentaria en el hogar): 0 \"No presenta IA\", 1 \"Presenta IA\"\n",
    "\n",
    "``` R\n",
    "df <- read.csv(\"https://raw.githubusercontent.com/beduExpert/Programacion-R-Santander-2022/main/Sesion-08/Postwork/inseguridad_alimentaria_bedu.csv\")\n",
    "```\n",
    "\n",
    "1) Plantea el problema del caso\n",
    "2) Realiza un análisis descriptivo de la información\n",
    "3) Calcula probabilidades que nos permitan entender el problema en México\n",
    "4) Plantea hipótesis estadísticas y concluye sobre ellas para entender el problema en México\n",
    "5) Estima un modelo de regresión, lineal o logístico, para identificar los determinanres de la inseguridad alimentaria en México\n",
    "6) Escribe tu análisis en un archivo README.md y tu código en un script de R y publica ambos en un repositorio de Github.\n",
    "\n",
    "> NOTA: Todo tu planteamiento deberá estár correctamente desarrollado y deberás analizar e interpretar todos tus resultados para poder dar una conclusión final al problema planteado."
   ]
  },
  {
   "cell_type": "markdown",
   "id": "26905fc2",
   "metadata": {},
   "source": [
    "## 1) Planteamiento del problema del caso\n",
    "\n",
    "### Objetivos\n",
    "\n",
    "- Analizar patrones de gasto en alimentos saludables y no saludables en familias mexicanas con base en:\n",
    "\n",
    "    - el nivel socioeconómico\n",
    "    - disponibilidad de recursos financieros adicionales al ingreso\n",
    "    - presencia de inseguridad alimentaria\n",
    "\n",
    "- Elaborar un modelo que permita identificar los determinantes socioeconómicos de la inseguridad alimentaria (IA) con base en las variables disponibles en el extracto de la Encuesta Nacional de Salud y Nutrición 2012 del Instituto Nacional de Salud Pública en México (ENSANUT 2012)"
   ]
  },
  {
   "cell_type": "markdown",
   "id": "c842abff",
   "metadata": {},
   "source": [
    "## 2) Análisis descriptivo de la información"
   ]
  },
  {
   "cell_type": "code",
   "execution_count": 1,
   "id": "333cb7d1",
   "metadata": {},
   "outputs": [
    {
     "name": "stderr",
     "output_type": "stream",
     "text": [
      "Registered S3 methods overwritten by 'ggplot2':\n",
      "  method         from \n",
      "  [.quosures     rlang\n",
      "  c.quosures     rlang\n",
      "  print.quosures rlang\n"
     ]
    }
   ],
   "source": [
    "library(ggplot2)\n",
    "options(repr.plot.width=6, repr.plot.height=4)"
   ]
  },
  {
   "cell_type": "markdown",
   "id": "2f0eaf83",
   "metadata": {},
   "source": [
    "Obtención de los datos:"
   ]
  },
  {
   "cell_type": "code",
   "execution_count": 2,
   "id": "5a73d13a",
   "metadata": {},
   "outputs": [
    {
     "data": {
      "text/html": [
       "<table>\n",
       "<thead><tr><th scope=col>nse5f</th><th scope=col>area</th><th scope=col>numpeho</th><th scope=col>refin</th><th scope=col>edadjef</th><th scope=col>sexojef</th><th scope=col>añosedu</th><th scope=col>IA</th><th scope=col>ln_als</th><th scope=col>ln_alns</th></tr></thead>\n",
       "<tbody>\n",
       "\t<tr><td>5       </td><td>0       </td><td>4       </td><td>0       </td><td>43      </td><td> 0      </td><td>24      </td><td>0       </td><td>5.393628</td><td>      NA</td></tr>\n",
       "\t<tr><td>5       </td><td>0       </td><td>5       </td><td>1       </td><td>NA      </td><td>NA      </td><td>24      </td><td>0       </td><td>7.024649</td><td>      NA</td></tr>\n",
       "\t<tr><td>5       </td><td>0       </td><td>4       </td><td>0       </td><td>46      </td><td> 0      </td><td>24      </td><td>0       </td><td>6.767343</td><td>4.605170</td></tr>\n",
       "\t<tr><td>5       </td><td>1       </td><td>1       </td><td>0       </td><td>54      </td><td> 0      </td><td>24      </td><td>0       </td><td>3.401197</td><td>4.094345</td></tr>\n",
       "\t<tr><td>5       </td><td>0       </td><td>2       </td><td>1       </td><td>39      </td><td> 0      </td><td>24      </td><td>0       </td><td>6.115892</td><td>5.480639</td></tr>\n",
       "\t<tr><td>5       </td><td>0       </td><td>5       </td><td>1       </td><td>NA      </td><td>NA      </td><td>24      </td><td>0       </td><td>7.514800</td><td>5.598422</td></tr>\n",
       "</tbody>\n",
       "</table>\n"
      ],
      "text/latex": [
       "\\begin{tabular}{r|llllllllll}\n",
       " nse5f & area & numpeho & refin & edadjef & sexojef & añosedu & IA & ln\\_als & ln\\_alns\\\\\n",
       "\\hline\n",
       "\t 5        & 0        & 4        & 0        & 43       &  0       & 24       & 0        & 5.393628 &       NA\\\\\n",
       "\t 5        & 0        & 5        & 1        & NA       & NA       & 24       & 0        & 7.024649 &       NA\\\\\n",
       "\t 5        & 0        & 4        & 0        & 46       &  0       & 24       & 0        & 6.767343 & 4.605170\\\\\n",
       "\t 5        & 1        & 1        & 0        & 54       &  0       & 24       & 0        & 3.401197 & 4.094345\\\\\n",
       "\t 5        & 0        & 2        & 1        & 39       &  0       & 24       & 0        & 6.115892 & 5.480639\\\\\n",
       "\t 5        & 0        & 5        & 1        & NA       & NA       & 24       & 0        & 7.514800 & 5.598422\\\\\n",
       "\\end{tabular}\n"
      ],
      "text/markdown": [
       "\n",
       "| nse5f | area | numpeho | refin | edadjef | sexojef | añosedu | IA | ln_als | ln_alns |\n",
       "|---|---|---|---|---|---|---|---|---|---|\n",
       "| 5        | 0        | 4        | 0        | 43       |  0       | 24       | 0        | 5.393628 |       NA |\n",
       "| 5        | 0        | 5        | 1        | NA       | NA       | 24       | 0        | 7.024649 |       NA |\n",
       "| 5        | 0        | 4        | 0        | 46       |  0       | 24       | 0        | 6.767343 | 4.605170 |\n",
       "| 5        | 1        | 1        | 0        | 54       |  0       | 24       | 0        | 3.401197 | 4.094345 |\n",
       "| 5        | 0        | 2        | 1        | 39       |  0       | 24       | 0        | 6.115892 | 5.480639 |\n",
       "| 5        | 0        | 5        | 1        | NA       | NA       | 24       | 0        | 7.514800 | 5.598422 |\n",
       "\n"
      ],
      "text/plain": [
       "  nse5f area numpeho refin edadjef sexojef añosedu IA ln_als   ln_alns \n",
       "1 5     0    4       0     43       0      24      0  5.393628       NA\n",
       "2 5     0    5       1     NA      NA      24      0  7.024649       NA\n",
       "3 5     0    4       0     46       0      24      0  6.767343 4.605170\n",
       "4 5     1    1       0     54       0      24      0  3.401197 4.094345\n",
       "5 5     0    2       1     39       0      24      0  6.115892 5.480639\n",
       "6 5     0    5       1     NA      NA      24      0  7.514800 5.598422"
      ]
     },
     "metadata": {},
     "output_type": "display_data"
    }
   ],
   "source": [
    "url <- \"https://raw.githubusercontent.com/beduExpert/Programacion-R-Santander-2022/main/Sesion-08/Postwork/inseguridad_alimentaria_bedu.csv\"\n",
    "datos <- read.csv(url, encoding = \"UTF-8\")\n",
    "head(datos)"
   ]
  },
  {
   "cell_type": "markdown",
   "id": "f7579324",
   "metadata": {},
   "source": [
    "Para obtener un resumen estadístico de los datos, se convierten en factores las variables discretas."
   ]
  },
  {
   "cell_type": "code",
   "execution_count": 3,
   "id": "45e8c49d",
   "metadata": {},
   "outputs": [],
   "source": [
    "datos$nse5f <- factor(datos$nse5f,\n",
    "                      levels = 1:5,\n",
    "                      labels = c(\"Bajo\", \"Medio bajo\", \"Medio\", \"Medio alto\", \"Alto\"),\n",
    "                      ordered = TRUE)\n",
    "datos$area <- factor(datos$area,\n",
    "                     levels = 0:1,\n",
    "                     labels = c(\"Zona urbana\", \"Zona rural\"))\n",
    "datos$refin <- factor(datos$refin,\n",
    "                      levels = 0:1,\n",
    "                      labels = c(\"no\", \"sí\"))\n",
    "datos$sexojef <- factor(datos$sexojef,\n",
    "                       levels = 0:1,\n",
    "                       labels = c(\"Hombre\", \"Mujer\"))\n",
    "datos$IA <- factor(datos$IA,\n",
    "                   levels = 0:1,\n",
    "                   labels = c(\"No presenta IA\", \"Presenta IA\"))"
   ]
  },
  {
   "cell_type": "markdown",
   "id": "d279788a",
   "metadata": {},
   "source": [
    "Y, enseguida, el resumen estadístico."
   ]
  },
  {
   "cell_type": "code",
   "execution_count": 4,
   "id": "4e1e3473",
   "metadata": {},
   "outputs": [
    {
     "data": {
      "text/html": [
       "<ol class=list-inline>\n",
       "\t<li>40809</li>\n",
       "\t<li>10</li>\n",
       "</ol>\n"
      ],
      "text/latex": [
       "\\begin{enumerate*}\n",
       "\\item 40809\n",
       "\\item 10\n",
       "\\end{enumerate*}\n"
      ],
      "text/markdown": [
       "1. 40809\n",
       "2. 10\n",
       "\n",
       "\n"
      ],
      "text/plain": [
       "[1] 40809    10"
      ]
     },
     "metadata": {},
     "output_type": "display_data"
    }
   ],
   "source": [
    "dim(datos)"
   ]
  },
  {
   "cell_type": "code",
   "execution_count": 5,
   "id": "6c26ac0c",
   "metadata": {},
   "outputs": [
    {
     "data": {
      "text/html": [
       "20280"
      ],
      "text/latex": [
       "20280"
      ],
      "text/markdown": [
       "20280"
      ],
      "text/plain": [
       "[1] 20280"
      ]
     },
     "metadata": {},
     "output_type": "display_data"
    }
   ],
   "source": [
    "sum(complete.cases(datos))"
   ]
  },
  {
   "cell_type": "code",
   "execution_count": 6,
   "id": "0196a1e4",
   "metadata": {},
   "outputs": [
    {
     "data": {
      "text/plain": [
       "        nse5f               area          numpeho       refin     \n",
       " Bajo      :8858   Zona urbana:26591   Min.   : 1.000   no:33046  \n",
       " Medio bajo:8560   Zona rural :14218   1st Qu.: 3.000   sí: 7763  \n",
       " Medio     :8323                       Median : 4.000             \n",
       " Medio alto:7903                       Mean   : 3.941             \n",
       " Alto      :7165                       3rd Qu.: 5.000             \n",
       "                                       Max.   :19.000             \n",
       "                                                                  \n",
       "    edadjef       sexojef         añosedu                   IA       \n",
       " Min.   : 18    Hombre:26957   Min.   : 0.00   No presenta IA:10781  \n",
       " 1st Qu.: 37    Mujer : 8861   1st Qu.: 9.00   Presenta IA   :30028  \n",
       " Median : 47    NA's  : 4991   Median : 9.00                         \n",
       " Mean   : 49                   Mean   :10.36                         \n",
       " 3rd Qu.: 60                   3rd Qu.:12.00                         \n",
       " Max.   :111                   Max.   :24.00                         \n",
       " NA's   :5017                                                        \n",
       "     ln_als          ln_alns     \n",
       " Min.   :0.6931   Min.   :0.000  \n",
       " 1st Qu.:5.7038   1st Qu.:3.401  \n",
       " Median :6.1633   Median :4.025  \n",
       " Mean   :6.0665   Mean   :4.125  \n",
       " 3rd Qu.:6.5511   3rd Qu.:4.868  \n",
       " Max.   :8.9699   Max.   :8.403  \n",
       " NA's   :787      NA's   :17504  "
      ]
     },
     "metadata": {},
     "output_type": "display_data"
    }
   ],
   "source": [
    "summary(datos)"
   ]
  },
  {
   "cell_type": "markdown",
   "id": "10ac6ac6",
   "metadata": {},
   "source": [
    "La base de datos tiene 40,809 registros, de los cuales 20,280, poco menos de la mitad,  tienen información completa para todos los campos. "
   ]
  },
  {
   "cell_type": "code",
   "execution_count": 26,
   "id": "92da1fb4",
   "metadata": {},
   "outputs": [
    {
     "data": {
      "image/png": "[encoded data removed]",
      "text/plain": [
       "plot without title"
      ]
     },
     "metadata": {},
     "output_type": "display_data"
    }
   ],
   "source": [
    "barplot(c(100, sum(complete.cases(datos))/nrow(datos)*100),\n",
    "        names.arg = c(\"Total de registros\", \"Registros completos\"),\n",
    "        ylab = \"%\")"
   ]
  },
  {
   "cell_type": "markdown",
   "id": "47cd9b52",
   "metadata": {},
   "source": [
    "Con una mezcla más o menos homogénea de niveles socioeconómicos, con una tendencia ligeramente decreciente conforme aumenta el nivel socioeconómico, con entre 7,000 y 9,000 hogares por nivel. "
   ]
  },
  {
   "cell_type": "code",
   "execution_count": 27,
   "id": "4e07a028",
   "metadata": {},
   "outputs": [
    {
     "data": {
      "image/png": "[encoded data removed]",
      "text/plain": [
       "Plot with title \"Número de hogares por nivel socioeconómico\""
      ]
     },
     "metadata": {},
     "output_type": "display_data"
    }
   ],
   "source": [
    "plot(datos$nse5f,\n",
    "     main = \"Número de hogares por nivel socioeconómico\")"
   ]
  },
  {
   "cell_type": "markdown",
   "id": "72153661",
   "metadata": {},
   "source": [
    "La muestra es mayoritariamente de hogares urbanos, aproximadamente en dos terceras partes."
   ]
  },
  {
   "cell_type": "code",
   "execution_count": 28,
   "id": "322851b8",
   "metadata": {},
   "outputs": [
    {
     "data": {
      "image/png": "[encoded data removed]",
      "text/plain": [
       "plot without title"
      ]
     },
     "metadata": {},
     "output_type": "display_data"
    }
   ],
   "source": [
    "ggplot(datos, aes(x = area)) +\n",
    "  geom_bar(aes(y = (..count..)/sum(..count..)*100)) +\n",
    "  labs(title = \"Hogares por zona geográfica\",\n",
    "       x = \"\", y = \"%\")"
   ]
  },
  {
   "cell_type": "markdown",
   "id": "615befe0",
   "metadata": {},
   "source": [
    "De la información proporcionada por `summary`, se observa que el número de personas por hogar varía entre 1 y 19, con una media de 3.9 y una mediana de 4. El 75% de los hogares es habitado por 5 personas o menos y el 50% por entre 3 y 5 personas. Asimismo, el 95% de los hogares tiene 7 o menos habitantes, siendo la excepción los valores mayores."
   ]
  },
  {
   "cell_type": "code",
   "execution_count": 29,
   "id": "861a8427",
   "metadata": {},
   "outputs": [
    {
     "data": {
      "image/png": "[encoded data removed]",
      "text/plain": [
       "Plot with title \"Número de personas en el hogar\""
      ]
     },
     "metadata": {},
     "output_type": "display_data"
    }
   ],
   "source": [
    "hist(datos$numpeho,\n",
    "     main = \"Número de personas en el hogar\",\n",
    "     xlab = \"\",\n",
    "ylab = \"\")"
   ]
  },
  {
   "cell_type": "code",
   "execution_count": 13,
   "id": "f8ae4d6e",
   "metadata": {},
   "outputs": [
    {
     "data": {
      "text/html": [
       "<strong>95%:</strong> 7"
      ],
      "text/latex": [
       "\\textbf{95\\textbackslash{}\\%:} 7"
      ],
      "text/markdown": [
       "**95%:** 7"
      ],
      "text/plain": [
       "95% \n",
       "  7 "
      ]
     },
     "metadata": {},
     "output_type": "display_data"
    }
   ],
   "source": [
    "quantile(datos$numpeho, probs = 0.95)"
   ]
  },
  {
   "cell_type": "markdown",
   "id": "36d9583e",
   "metadata": {},
   "source": [
    "En cuanto a recursos financieros adicionales al ingreso, únicamente uno de cada cinco hogares disponen de ellos."
   ]
  },
  {
   "cell_type": "code",
   "execution_count": 30,
   "id": "91a7cad6",
   "metadata": {},
   "outputs": [
    {
     "data": {
      "image/png": "[encoded data removed]",
      "text/plain": [
       "plot without title"
      ]
     },
     "metadata": {},
     "output_type": "display_data"
    }
   ],
   "source": [
    "ggplot(datos, aes(x = refin)) +\n",
    "  geom_bar(aes(y = (..count..)/sum(..count..)*100)) +\n",
    "  labs(title = \"Hogares por disponibilidad de recursos financieros distintos al ingreso\",\n",
    "       x = \"\", y = \"%\")"
   ]
  },
  {
   "cell_type": "markdown",
   "id": "93bb7704",
   "metadata": {},
   "source": [
    "Igualmente, `summary` nos informa que el promedio de edad del jefe de familia es de 49 años, y la mediana, 47. La edad mínima reportada es de 18 años, y la máxima, de 111 (un posible error de captura). El 50% de las edades de los jefes de familia se ubica entre 37 y 60 años. El 75% de los jefes de familia son menores de 60 años, y el 90%, menores de 72. Para 5,017 de los hogares (12%) no se cuenta con este dato."
   ]
  },
  {
   "cell_type": "code",
   "execution_count": 31,
   "id": "26981a54",
   "metadata": {},
   "outputs": [
    {
     "data": {
      "image/png": "[encoded data removed]",
      "text/plain": [
       "Plot with title \"Edad del jefe de familia\""
      ]
     },
     "metadata": {},
     "output_type": "display_data"
    }
   ],
   "source": [
    "hist(datos$edadjef,\n",
    "     freq = FALSE,\n",
    "     main = \"Edad del jefe de familia\",\n",
    "     xlab = \"\",\n",
    "     ylab = \"\")"
   ]
  },
  {
   "cell_type": "code",
   "execution_count": 16,
   "id": "8d9605b6",
   "metadata": {},
   "outputs": [
    {
     "data": {
      "text/html": [
       "<strong>90%:</strong> 72"
      ],
      "text/latex": [
       "\\textbf{90\\textbackslash{}\\%:} 72"
      ],
      "text/markdown": [
       "**90%:** 72"
      ],
      "text/plain": [
       "90% \n",
       " 72 "
      ]
     },
     "metadata": {},
     "output_type": "display_data"
    }
   ],
   "source": [
    "quantile(datos$edadjef, probs = 0.90, na.rm = TRUE)"
   ]
  },
  {
   "cell_type": "markdown",
   "id": "b7a0bece",
   "metadata": {},
   "source": [
    "En alrededor del 65% de los hogares, el jefe de familia es hombre, mientras que en poco más de un 20% es mujer. Aproximadamente un 10% no proporcionó este dato, por lo que la proporción verdadera de hombres jefes de familia podría oscilar entre 65 y 80%."
   ]
  },
  {
   "cell_type": "code",
   "execution_count": 22,
   "id": "54d43a3c",
   "metadata": {},
   "outputs": [
    {
     "data": {
      "image/png": "[encoded data removed]",
      "text/plain": [
       "plot without title"
      ]
     },
     "metadata": {},
     "output_type": "display_data"
    }
   ],
   "source": [
    "ggplot(datos, aes(x = sexojef)) +\n",
    "  geom_bar(aes(y = (..count..)/sum(..count..)*100)) +\n",
    "  labs(title = \"Hogares por sexo del jefe de familia\",\n",
    "       x = \"\", y = \"%\")"
   ]
  },
  {
   "cell_type": "markdown",
   "id": "4db55343",
   "metadata": {},
   "source": [
    "El promedio de años de estudio del jefe del hogar es 10.4 (preparatoria inconclusa), y la mediana, 9 (secundaria completa). Solo el 25% de los jefes de familia cuentan con estudios superiores a la preparatoria. El máximo de años de estudio para el jefe del hogar es de 24.\n",
    "\n",
    "Es de observarse en el histograma que la mayoría de los datos se ubican entre los 8 y 12 años de estudio, con solo pocos datos fuera de este rango."
   ]
  },
  {
   "cell_type": "code",
   "execution_count": 21,
   "id": "697c5463",
   "metadata": {},
   "outputs": [
    {
     "data": {
      "image/png": "[encoded data removed]",
      "text/plain": [
       "Plot with title \"Años de estudio del jefe del hogar\""
      ]
     },
     "metadata": {},
     "output_type": "display_data"
    }
   ],
   "source": [
    "hist(datos$añosedu,\n",
    "     main = \"Años de estudio del jefe del hogar\",\n",
    "     xlab = \"\",\n",
    "     ylab = \"\")"
   ]
  },
  {
   "cell_type": "markdown",
   "id": "cadac0b3",
   "metadata": {},
   "source": [
    "En lo que respecta a la insuficiencia alimentaria, una cuarta parte de los hogares la presentan."
   ]
  },
  {
   "cell_type": "code",
   "execution_count": 20,
   "id": "755e5c19",
   "metadata": {},
   "outputs": [
    {
     "data": {
      "image/png": "[encoded data removed]",
      "text/plain": [
       "plot without title"
      ]
     },
     "metadata": {},
     "output_type": "display_data"
    }
   ],
   "source": [
    "ggplot(datos, aes(x = IA)) +\n",
    "  geom_bar(aes(y = (..count..)/sum(..count..)*100)) +\n",
    "  labs(title = \"Hogares por presencia de insuficiencia alimentaria\",\n",
    "       x = \"\", y = \"%\")"
   ]
  },
  {
   "cell_type": "markdown",
   "id": "8000d8aa",
   "metadata": {},
   "source": [
    "Se observa que los hogares gastan más, en promedio, en alimentos saludables que lo que gastan en alimentos no saludables (en, aproximadamente, casi un orden de magnitud, siete veces más). \n",
    "\n",
    "La dispersión del gasto en alimentos saludables es menor que la del gasto en alimentos no saludables. Para los alimentos saludables, el tercer cuartil gasta 2.33 veces más que el primero, mientras que para los alimentos no saludables, el tercer cuartil representa un gasto 38 veces mayor que el primero.\n",
    "\n",
    "> ***Nota***: *Los datos de gasto en alimentos disponibles en la Encuesta son logaritmos, por lo que, para la comparación de los rangos intercuartílicos, se utiliza una división ya que la resta de logaritmos equivale a una división*."
   ]
  },
  {
   "cell_type": "code",
   "execution_count": 23,
   "id": "0500f504",
   "metadata": {},
   "outputs": [
    {
     "name": "stderr",
     "output_type": "stream",
     "text": [
      "`stat_bin()` using `bins = 30`. Pick better value with `binwidth`.\n",
      "Warning message:\n",
      "\"Removed 18291 rows containing non-finite values (stat_bin).\""
     ]
    },
    {
     "data": {
      "image/png": "[encoded data removed]",
      "text/plain": [
       "plot without title"
      ]
     },
     "metadata": {},
     "output_type": "display_data"
    }
   ],
   "source": [
    "als <- data.frame(val = datos$ln_als)\n",
    "alns <- data.frame(val = datos$ln_alns)\n",
    "als$Alimentos <- \"Saludables\"\n",
    "alns$Alimentos <- \"No saludables\"\n",
    "d <- rbind(als, alns)\n",
    "ggplot(d, aes(exp(val), fill = Alimentos)) + \n",
    "  geom_histogram(alpha = 0.5, position = \"identity\") +\n",
    "  scale_x_log10() +\n",
    "  labs(title = \"Hogares por gasto en alimentos saludables y no saludables\",\n",
    "       x = \"Gasto en alimentos\",\n",
    "       y = \"Número de hogares\")"
   ]
  },
  {
   "cell_type": "code",
   "execution_count": 24,
   "id": "f071ddbb",
   "metadata": {},
   "outputs": [
    {
     "data": {
      "text/html": [
       "431.178193996114"
      ],
      "text/latex": [
       "431.178193996114"
      ],
      "text/markdown": [
       "431.178193996114"
      ],
      "text/plain": [
       "[1] 431.1782"
      ]
     },
     "metadata": {},
     "output_type": "display_data"
    },
    {
     "data": {
      "text/html": [
       "<dl class=dl-horizontal>\n",
       "\t<dt>25%</dt>\n",
       "\t\t<dd>300</dd>\n",
       "\t<dt>50%</dt>\n",
       "\t\t<dd>475</dd>\n",
       "\t<dt>75%</dt>\n",
       "\t\t<dd>699.999999999997</dd>\n",
       "</dl>\n"
      ],
      "text/latex": [
       "\\begin{description*}\n",
       "\\item[25\\textbackslash{}\\%] 300\n",
       "\\item[50\\textbackslash{}\\%] 475\n",
       "\\item[75\\textbackslash{}\\%] 699.999999999997\n",
       "\\end{description*}\n"
      ],
      "text/markdown": [
       "25%\n",
       ":   30050%\n",
       ":   47575%\n",
       ":   699.999999999997\n",
       "\n"
      ],
      "text/plain": [
       "25% 50% 75% \n",
       "300 475 700 "
      ]
     },
     "metadata": {},
     "output_type": "display_data"
    },
    {
     "data": {
      "text/html": [
       "61.8641318308276"
      ],
      "text/latex": [
       "61.8641318308276"
      ],
      "text/markdown": [
       "61.8641318308276"
      ],
      "text/plain": [
       "[1] 61.86413"
      ]
     },
     "metadata": {},
     "output_type": "display_data"
    },
    {
     "data": {
      "text/html": [
       "<dl class=dl-horizontal>\n",
       "\t<dt>25%</dt>\n",
       "\t\t<dd>30.0000000000001</dd>\n",
       "\t<dt>50%</dt>\n",
       "\t\t<dd>56</dd>\n",
       "\t<dt>75%</dt>\n",
       "\t\t<dd>130</dd>\n",
       "</dl>\n"
      ],
      "text/latex": [
       "\\begin{description*}\n",
       "\\item[25\\textbackslash{}\\%] 30.0000000000001\n",
       "\\item[50\\textbackslash{}\\%] 56\n",
       "\\item[75\\textbackslash{}\\%] 130\n",
       "\\end{description*}\n"
      ],
      "text/markdown": [
       "25%\n",
       ":   30.000000000000150%\n",
       ":   5675%\n",
       ":   130\n",
       "\n"
      ],
      "text/plain": [
       "25% 50% 75% \n",
       " 30  56 130 "
      ]
     },
     "metadata": {},
     "output_type": "display_data"
    }
   ],
   "source": [
    "exp(mean(datos$ln_als, na.rm = TRUE))\n",
    "exp(quantile(datos$ln_als, probs = c(0.25, 0.5, 0.75), na.rm = TRUE))\n",
    "exp(mean(datos$ln_alns, na.rm = TRUE))\n",
    "exp(quantile(datos$ln_alns, probs = c(0.25, 0.5, 0.75), na.rm = TRUE))"
   ]
  },
  {
   "cell_type": "markdown",
   "id": "8a0f30e8",
   "metadata": {},
   "source": [
    "## 3) Algunas probabilidades para un mejor entendimiento del problema\n",
    "\n",
    "Ya en la sección anterior se hizo una descripción estadística de los datos que, desde el punto de vista frecuentista, es una estimación de las probabilidades asociadas a la población de la que se extrajo la muestra.\n",
    "\n",
    "La similitud en el número de hogares en cada nivel socioeconómico hace suponer que no se trata de una muestra aleatoria, ya que, de ser ese el caso, se esperaría encontrar una cantidad mucho menor de hogares en los niveles alto y medio alto. Al parecer, se trató de encuestar una cantidad igual o similar de hogares en cada uno de los niveles socioeconómicos, aleatorizando la toma de muestra dentro de cada nivel pero no entre los niveles. Esto se podría corroborar en las notas técnicas de la Encuesta.\n",
    "\n",
    "Se esperaría que la probabilidad de que un hogar presente inseguridad alimentaria (IA) disminuiría conforme aumente el nivel socioeconómico. Así parece comportarse la muestra pero llama la atención la prevalencia de la IA incluso en el nivel socioeconómico alto, donde la probabilidad de que un hogar presente IA es cercana al 50%."
   ]
  },
  {
   "cell_type": "code",
   "execution_count": 25,
   "id": "1a05cca2",
   "metadata": {},
   "outputs": [
    {
     "data": {
      "image/png": "[encoded data removed]",
      "text/plain": [
       "plot without title"
      ]
     },
     "metadata": {},
     "output_type": "display_data"
    }
   ],
   "source": [
    "ggplot(datos, aes(x = IA)) +\n",
    "  geom_bar(aes(y = (..count..)/tapply(..count.., ..PANEL.., sum)[..PANEL..]*100)) +\n",
    "  facet_grid(cols = vars(nse5f)) +\n",
    "  theme(axis.text.x = element_text(angle = 45, hjust = 1)) +\n",
    "  labs(title = \"Presencia de inseguridad alimentaria por nivel socioeconómico\",\n",
    "       x = \"\", y = \"%\")"
   ]
  },
  {
   "cell_type": "markdown",
   "id": "f94086ad",
   "metadata": {},
   "source": [
    "Igualmente, es más probable que un hogar presente IA en las zonas rurales (80%) que en las urbanas (70%)."
   ]
  },
  {
   "cell_type": "code",
   "execution_count": 32,
   "id": "b75497c1",
   "metadata": {},
   "outputs": [
    {
     "data": {
      "image/png": "[encoded data removed]",
      "text/plain": [
       "plot without title"
      ]
     },
     "metadata": {},
     "output_type": "display_data"
    }
   ],
   "source": [
    "ggplot(datos, aes(x = IA)) +\n",
    "  geom_bar(aes(y = (..count..)/tapply(..count.., ..PANEL.., sum)[..PANEL..]*100)) +\n",
    "  facet_grid(cols = vars(area)) +\n",
    "  theme(axis.text.x = element_text(angle = 45, hjust = 1)) +\n",
    "  labs(title = \"Presencia de inseguridad alimentaria por área geográfica\",\n",
    "       x = \"\", y = \"%\")"
   ]
  },
  {
   "cell_type": "markdown",
   "id": "323c259c",
   "metadata": {},
   "source": [
    "La probabilidad de que un hogar presente IA no parece depender de que el jefe de familia sea hombre o mujer."
   ]
  },
  {
   "cell_type": "code",
   "execution_count": 33,
   "id": "27d1b66a",
   "metadata": {},
   "outputs": [
    {
     "data": {
      "image/png": "[encoded data removed]",
      "text/plain": [
       "plot without title"
      ]
     },
     "metadata": {},
     "output_type": "display_data"
    }
   ],
   "source": [
    "ggplot(datos, aes(x = IA)) +\n",
    "  geom_bar(aes(y = (..count..)/tapply(..count.., ..PANEL.., sum)[..PANEL..]*100)) +\n",
    "  facet_grid(cols = vars(sexojef)) +\n",
    "  theme(axis.text.x = element_text(angle = 45, hjust = 1)) +\n",
    "  labs(title = \"Presencia de inseguridad alimentaria por sexo del jefe de familia\",\n",
    "       x = \"\", y = \"%\")"
   ]
  },
  {
   "cell_type": "markdown",
   "id": "8c142846",
   "metadata": {},
   "source": [
    "## 4) Hipótesis y conclusiones sobre la IA en México\n",
    "\n",
    "Del enunciado tomamos que: \"*La mayoría de las personas afirman que los hogares con menor nivel socioeconómico tienden a gastar más en productos no saludables que las personas con mayores niveles socioeconómicos y que esto, entre otros determinantes, lleva a que un hogar presente cierta inseguridad alimentaria*\".\n",
    "\n",
    "### Los hogares con menor NSE tienden a gastar más en productos no saludables\n",
    "\n",
    "#### Hipótesis\n",
    "\n",
    "- Ho: La media del logaritmo del gasto en alimentos no saludables es igual independientemente del nivel socioeconómico\n",
    "- Ha: La media del logaritmo del gasto en alimentos no saludables aumenta con el nivel socioeconómico\n",
    "\n",
    "De manera expliratoria, se visualizan los datos."
   ]
  },
  {
   "cell_type": "code",
   "execution_count": 34,
   "id": "e2ccd18a",
   "metadata": {},
   "outputs": [
    {
     "data": {
      "image/png": "[encoded data removed]",
      "text/plain": [
       "Plot with title \"Gasto en alimentos no saludables por nivel socioeconómico\""
      ]
     },
     "metadata": {},
     "output_type": "display_data"
    }
   ],
   "source": [
    "plot(datos$nse5f, exp(datos$ln_alns),\n",
    "     log = \"y\",\n",
    "     main = \"Gasto en alimentos no saludables por nivel socioeconómico\",\n",
    "     xlab = \"\",\n",
    "     ylab = \"\") "
   ]
  },
  {
   "cell_type": "markdown",
   "id": "0de19ebe",
   "metadata": {},
   "source": [
    "Se observa que, por el contrario a lo supuesto, el gasto en alimentos no saludables, se incrementa con el NSE. Y lo mismo con el gasto en alimentos saludables."
   ]
  },
  {
   "cell_type": "code",
   "execution_count": 35,
   "id": "02e270cc",
   "metadata": {},
   "outputs": [
    {
     "data": {
      "image/png": "[encoded data removed]",
      "text/plain": [
       "Plot with title \"Gasto en alimentos saludables por nivel socioeconómico\""
      ]
     },
     "metadata": {},
     "output_type": "display_data"
    }
   ],
   "source": [
    "plot(datos$nse5f, exp(datos$ln_als),\n",
    "     log = \"y\",\n",
    "     main = \"Gasto en alimentos saludables por nivel socioeconómico\",\n",
    "     xlab = \"\",\n",
    "     ylab = \"\") "
   ]
  },
  {
   "cell_type": "markdown",
   "id": "7e48fbe0",
   "metadata": {},
   "source": [
    "Lo cual no es de extrañar, debido a que los hogares con mayor NSE disponen de mayor cantidad de dinero para gastar. Lo que interesa es la proporción.\n",
    "\n",
    "- Ho: La media de la diferencia entre el logaritmo del gasto en alimentos no saludables y saludables es igual independientemente del nivel socioeconómico\n",
    "- Ha: La media de la diferencia entre el logaritmo del gasto en alimentos no saludables y saludables disminuye con el nivel socioeconómico"
   ]
  },
  {
   "cell_type": "code",
   "execution_count": 36,
   "id": "266d8dab",
   "metadata": {},
   "outputs": [
    {
     "data": {
      "image/png": "[encoded data removed]",
      "text/plain": [
       "Plot with title \"Gasto en ANS contra gasto total en alimentos por NSE\""
      ]
     },
     "metadata": {},
     "output_type": "display_data"
    }
   ],
   "source": [
    "datos$prop_alns <- exp(datos$ln_alns) / (exp(datos$ln_alns) + exp(datos$ln_als)) \n",
    "plot(datos$nse5f, datos$prop_alns,\n",
    "     main = \"Gasto en ANS contra gasto total en alimentos por NSE\",\n",
    "     log = \"y\",\n",
    "     xlab = \"\",\n",
    "     ylab = \"Proporción\") "
   ]
  },
  {
   "cell_type": "code",
   "execution_count": 37,
   "id": "f9846e6f",
   "metadata": {},
   "outputs": [
    {
     "data": {
      "text/plain": [
       "               Df Sum Sq Mean Sq F value Pr(>F)    \n",
       "nse5f           4    2.1  0.5328   29.38 <2e-16 ***\n",
       "Residuals   23196  420.6  0.0181                   \n",
       "---\n",
       "Signif. codes:  0 '***' 0.001 '**' 0.01 '*' 0.05 '.' 0.1 ' ' 1\n",
       "17608 observations deleted due to missingness"
      ]
     },
     "metadata": {},
     "output_type": "display_data"
    }
   ],
   "source": [
    "summary(aov(prop_alns ~ nse5f, data = datos))"
   ]
  },
  {
   "cell_type": "markdown",
   "id": "80a37631",
   "metadata": {},
   "source": [
    "El resultado del ANOVA nos permite concluir que hay diferencia significativa entre la proporción del gasto en alimentos no saludables contra el gasto total en alimentos entre los diferentes niveles socioeconómicos. Sin embargo, de las gráficas se observa que los niveles socioeconómicos altos gastan más, en proporción, en alimentos no saludables que los niveles socioeconómicos bajos.\n",
    "\n",
    "### Los hogares con menor NSE presentan en mayor proporción IA\n",
    "\n",
    "#### Hipótesis\n",
    "\n",
    "- Ho: La media del logaritmo del gasto en alimentos no saludables es igual independientemente del nivel socioeconómico\n",
    "- Ha: La media del logaritmo del gasto en alimentos no saludables aumenta con el nivel socioeconómico"
   ]
  },
  {
   "cell_type": "code",
   "execution_count": 39,
   "id": "9fcf4d2c",
   "metadata": {},
   "outputs": [
    {
     "data": {
      "text/plain": [
       "            \n",
       "             No presenta IA Presenta IA\n",
       "  Bajo                 1143        7715\n",
       "  Medio bajo           1550        7010\n",
       "  Medio                1877        6446\n",
       "  Medio alto           2566        5337\n",
       "  Alto                 3645        3520"
      ]
     },
     "metadata": {},
     "output_type": "display_data"
    },
    {
     "data": {
      "text/plain": [
       "\n",
       "\tPearson's Chi-squared test\n",
       "\n",
       "data:  tabla_1\n",
       "X-squared = 3553.4, df = 4, p-value < 2.2e-16\n"
      ]
     },
     "metadata": {},
     "output_type": "display_data"
    },
    {
     "data": {
      "image/png": "[encoded data removed]",
      "text/plain": [
       "Plot with title \"IA por NSE\""
      ]
     },
     "metadata": {},
     "output_type": "display_data"
    }
   ],
   "source": [
    "tabla_1 <- table(datos$nse5f, datos$IA)\n",
    "tabla_1\n",
    "plot(tabla_1, col = c(\"red\", \"blue\"), main = \"IA por NSE\") \n",
    "chisq.test(tabla_1)"
   ]
  },
  {
   "cell_type": "markdown",
   "id": "5d874289",
   "metadata": {},
   "source": [
    "Con un chi cuadrado alto y un *p*-value menor que 0.05, se rechaza la hipotesis nula y se concluye que NSE e IA tienen una relación significativa y, de la gráfica, se observa que la relación es consistente con una disminución en la incidencia de IA conforme aumenta el NSE.\n",
    "\n",
    "\n",
    "## 5) Modelo de regresión\n",
    "\n",
    "Dado que el problema es uno de clasificación (presencia o ausencia de inseguridad alimentaria), se utilizará un modelo de regresión logística. Se planea incluir, inicialmente, todas las variables.\n",
    "\n",
    "En la sección relativa al análisis descriptivo de la información ya se mencionaron los valores faltantes en ciertas variables. La biblioteca `Amelia` permite visualizar gráficamente la densidad de dichos valores faltantes."
   ]
  },
  {
   "cell_type": "code",
   "execution_count": 47,
   "id": "164edea7",
   "metadata": {},
   "outputs": [
    {
     "name": "stderr",
     "output_type": "stream",
     "text": [
      "Loading required package: Rcpp\n",
      "## \n",
      "## Amelia II: Multiple Imputation\n",
      "## (Version 1.7.5, built: 2018-05-07)\n",
      "## Copyright (C) 2005-2022 James Honaker, Gary King and Matthew Blackwell\n",
      "## Refer to http://gking.harvard.edu/amelia/ for more information\n",
      "## \n"
     ]
    },
    {
     "data": {
      "image/png": "[encoded data removed]",
      "text/plain": [
       "Plot with title \"Mapa de valores faltantes (NA)\""
      ]
     },
     "metadata": {},
     "output_type": "display_data"
    }
   ],
   "source": [
    "library(Amelia)\n",
    "missmap(datos,\n",
    "        main = \"Mapa de valores faltantes (NA)\")"
   ]
  },
  {
   "cell_type": "markdown",
   "id": "016ceef2",
   "metadata": {},
   "source": [
    "La variable `ln_alns`, que representa el logaritmo natural del gasto en alimentos no saludables, presenta la mayor densidad de datos faltantes (17,504 registros), por lo que es candidata a eliminarla del análisis. Sin embargo, por lo que representa, se considera que puede ser un buen predictor de inseguridad alimentaria, por lo que se decide conservarlo.\n",
    "\n",
    "El modelo inicial considera todos los factores con sus interacciones de segundo grado."
   ]
  },
  {
   "cell_type": "code",
   "execution_count": 45,
   "id": "ee199e67",
   "metadata": {},
   "outputs": [
    {
     "data": {
      "text/plain": [
       "\n",
       "Call:\n",
       "glm(formula = IA ~ (nse5f + area + numpeho + refin + edadjef + \n",
       "    sexojef + añosedu + ln_als + ln_alns)^2, family = binomial, \n",
       "    data = datos)\n",
       "\n",
       "Deviance Residuals: \n",
       "    Min       1Q   Median       3Q      Max  \n",
       "-2.7898  -1.0230   0.5959   0.8108   1.8583  \n",
       "\n",
       "Coefficients:\n",
       "                              Estimate Std. Error z value Pr(>|z|)    \n",
       "(Intercept)                  1.6972136  1.2919527   1.314 0.188954    \n",
       "nse5f.L                     -0.3183660  0.5916738  -0.538 0.590524    \n",
       "nse5f.Q                      1.6518814  0.4613047   3.581 0.000342 ***\n",
       "nse5f.C                      0.1451875  0.4392013   0.331 0.740968    \n",
       "nse5f^4                      0.0799632  0.4462598   0.179 0.857792    \n",
       "areaZona rural              -1.0546597  0.4880544  -2.161 0.030699 *  \n",
       "numpeho                      0.5417532  0.1159581   4.672 2.98e-06 ***\n",
       "refinsí                      0.4578141  0.5372333   0.852 0.394120    \n",
       "edadjef                     -0.0071308  0.0126042  -0.566 0.571569    \n",
       "sexojefMujer                 0.9387917  0.4824217   1.946 0.051655 .  \n",
       "añosedu                     -0.1150622  0.0483382  -2.380 0.017296 *  \n",
       "ln_als                      -0.0680134  0.2158779  -0.315 0.752720    \n",
       "ln_alns                     -0.0977947  0.1801646  -0.543 0.587262    \n",
       "nse5f.L:areaZona rural      -0.0124977  0.1164806  -0.107 0.914555    \n",
       "nse5f.Q:areaZona rural       0.0666232  0.1007506   0.661 0.508440    \n",
       "nse5f.C:areaZona rural       0.0525047  0.0910956   0.576 0.564366    \n",
       "nse5f^4:areaZona rural       0.0529577  0.0852440   0.621 0.534436    \n",
       "nse5f.L:numpeho              0.0274052  0.0304288   0.901 0.367782    \n",
       "nse5f.Q:numpeho             -0.0276508  0.0249315  -1.109 0.267400    \n",
       "nse5f.C:numpeho              0.0524637  0.0244943   2.142 0.032204 *  \n",
       "nse5f^4:numpeho              0.0249756  0.0244252   1.023 0.306529    \n",
       "nse5f.L:refinsí              0.1511271  0.1312428   1.152 0.249523    \n",
       "nse5f.Q:refinsí             -0.1136760  0.1066436  -1.066 0.286449    \n",
       "nse5f.C:refinsí             -0.0393388  0.1016478  -0.387 0.698748    \n",
       "nse5f^4:refinsí              0.1047915  0.1023398   1.024 0.305856    \n",
       "nse5f.L:edadjef             -0.0169827  0.0036216  -4.689 2.74e-06 ***\n",
       "nse5f.Q:edadjef             -0.0088625  0.0030040  -2.950 0.003175 ** \n",
       "nse5f.C:edadjef             -0.0056638  0.0028437  -1.992 0.046405 *  \n",
       "nse5f^4:edadjef              0.0032353  0.0028289   1.144 0.252766    \n",
       "nse5f.L:sexojefMujer         0.0260305  0.1263002   0.206 0.836712    \n",
       "nse5f.Q:sexojefMujer         0.0403663  0.1025336   0.394 0.693811    \n",
       "nse5f.C:sexojefMujer         0.0820855  0.0973275   0.843 0.399008    \n",
       "nse5f^4:sexojefMujer        -0.0181687  0.0936977  -0.194 0.846248    \n",
       "nse5f.L:añosedu             -0.0050016  0.0127380  -0.393 0.694576    \n",
       "nse5f.Q:añosedu             -0.0189233  0.0111716  -1.694 0.090288 .  \n",
       "nse5f.C:añosedu             -0.0125503  0.0107862  -1.164 0.244605    \n",
       "nse5f^4:añosedu              0.0011633  0.0109061   0.107 0.915055    \n",
       "nse5f.L:ln_als              -0.0082607  0.0821837  -0.101 0.919935    \n",
       "nse5f.Q:ln_als              -0.1687567  0.0666033  -2.534 0.011285 *  \n",
       "nse5f.C:ln_als               0.0257662  0.0644167   0.400 0.689162    \n",
       "nse5f^4:ln_als              -0.0010046  0.0649899  -0.015 0.987667    \n",
       "nse5f.L:ln_alns              0.0088135  0.0517831   0.170 0.864853    \n",
       "nse5f.Q:ln_alns             -0.0050211  0.0421020  -0.119 0.905069    \n",
       "nse5f.C:ln_alns             -0.0342444  0.0400700  -0.855 0.392764    \n",
       "nse5f^4:ln_alns             -0.0772047  0.0392510  -1.967 0.049189 *  \n",
       "areaZona rural:numpeho      -0.0404855  0.0262376  -1.543 0.122823    \n",
       "areaZona rural:refinsí      -0.0191520  0.1111439  -0.172 0.863188    \n",
       "areaZona rural:edadjef       0.0065334  0.0030708   2.128 0.033371 *  \n",
       "areaZona rural:sexojefMujer  0.0036477  0.1078284   0.034 0.973013    \n",
       "areaZona rural:añosedu       0.0201767  0.0113925   1.771 0.076552 .  \n",
       "areaZona rural:ln_als        0.1100942  0.0728684   1.511 0.130823    \n",
       "areaZona rural:ln_alns      -0.0233099  0.0445756  -0.523 0.601024    \n",
       "numpeho:refinsí             -0.0055732  0.0294025  -0.190 0.849664    \n",
       "numpeho:edadjef             -0.0002198  0.0008410  -0.261 0.793812    \n",
       "numpeho:sexojefMujer        -0.0120296  0.0259444  -0.464 0.642885    \n",
       "numpeho:añosedu              0.0093105  0.0026581   3.503 0.000461 ***\n",
       "numpeho:ln_als              -0.0615867  0.0155109  -3.971 7.17e-05 ***\n",
       "numpeho:ln_alns             -0.0116868  0.0109499  -1.067 0.285836    \n",
       "refinsí:edadjef              0.0019166  0.0034218   0.560 0.575400    \n",
       "refinsí:sexojefMujer         0.0121632  0.1133718   0.107 0.914562    \n",
       "refinsí:añosedu             -0.0019808  0.0124443  -0.159 0.873535    \n",
       "refinsí:ln_als               0.0141131  0.0799644   0.176 0.859908    \n",
       "refinsí:ln_alns             -0.0468353  0.0461218  -1.015 0.309882    \n",
       "edadjef:sexojefMujer        -0.0093445  0.0031159  -2.999 0.002709 ** \n",
       "edadjef:añosedu              0.0012018  0.0002720   4.419 9.93e-06 ***\n",
       "edadjef:ln_als               0.0010687  0.0020899   0.511 0.609079    \n",
       "edadjef:ln_alns             -0.0021093  0.0012869  -1.639 0.101189    \n",
       "sexojefMujer:añosedu         0.0180239  0.0108268   1.665 0.095963 .  \n",
       "sexojefMujer:ln_als         -0.0769891  0.0714516  -1.077 0.281257    \n",
       "sexojefMujer:ln_alns         0.0012746  0.0435174   0.029 0.976634    \n",
       "añosedu:ln_als              -0.0034459  0.0074780  -0.461 0.644935    \n",
       "añosedu:ln_alns             -0.0043110  0.0046096  -0.935 0.349670    \n",
       "ln_als:ln_alns               0.0345713  0.0260568   1.327 0.184586    \n",
       "---\n",
       "Signif. codes:  0 '***' 0.001 '**' 0.01 '*' 0.05 '.' 0.1 ' ' 1\n",
       "\n",
       "(Dispersion parameter for binomial family taken to be 1)\n",
       "\n",
       "    Null deviance: 24373  on 20279  degrees of freedom\n",
       "Residual deviance: 21922  on 20207  degrees of freedom\n",
       "  (20529 observations deleted due to missingness)\n",
       "AIC: 22068\n",
       "\n",
       "Number of Fisher Scoring iterations: 4\n"
      ]
     },
     "metadata": {},
     "output_type": "display_data"
    }
   ],
   "source": [
    "m1 <- glm(IA ~ (nse5f + area + numpeho + refin + edadjef + sexojef + añosedu + ln_als + ln_alns)^2,\n",
    "         data = datos,\n",
    "         family = binomial)\n",
    "summary(m1)"
   ]
  },
  {
   "cell_type": "markdown",
   "id": "2e445559",
   "metadata": {},
   "source": [
    "Se encuentran los siguientes factores con influencia significativa ($\\alpha = 0.05$):\n",
    "\n",
    "- Nivel socioeconómico\n",
    "- Área geográfica\n",
    "- Número de personas en el hogar\n",
    "- Años de educación del jefe de familia\n",
    "\n",
    "Así como las siguientes interacciones:\n",
    "\n",
    "- Nivel socioeconómico con:\n",
    "    - Número de personas en el hogar\n",
    "    - Edad del jefe de familia\n",
    "    - Gasto en alimentos saludables\n",
    "    - Gasto en alimentos no saludables\n",
    "\n",
    "- Área geográfica con:\n",
    "    - Edad del jefe de familia\n",
    "    \n",
    "- Número de personas con:\n",
    "    - Años de educación del jefe de familia\n",
    "    - Gasto en alimentos saludables\n",
    "    \n",
    "- Edad del jefe de familia con:\n",
    "    - Sexo del jefe de familia\n",
    "    \n",
    "Por lo que se desechan las siguientes variables, para las que no se encontraron efectos significativos:\n",
    "\n",
    "- Disponibilidad de recursos financieros distintos al ingreso\n",
    "\n",
    "Es de observar que los siguietes factores no presentan un efecto significativo como elementos de primer orden (sin interacción) aunque si lo presentan en el segundo orden (en interacción con otros):\n",
    "\n",
    "- Edad del jefe de familia\n",
    "- Sexo del jefe de familia\n",
    "- Años de educación del jefe de familia\n",
    "- Gasto en alimentos saludables\n",
    "- Gasto en alimentos no saludables\n",
    "\n",
    "Como comparación, se analiza un modelo exclusivamente de primer orden:"
   ]
  },
  {
   "cell_type": "code",
   "execution_count": 48,
   "id": "460a119a",
   "metadata": {},
   "outputs": [
    {
     "data": {
      "text/plain": [
       "\n",
       "Call:\n",
       "glm(formula = IA ~ nse5f + area + numpeho + refin + edadjef + \n",
       "    sexojef + añosedu + ln_als + ln_alns, family = binomial, \n",
       "    data = datos)\n",
       "\n",
       "Deviance Residuals: \n",
       "    Min       1Q   Median       3Q      Max  \n",
       "-2.6972  -1.0549   0.6105   0.8063   1.6641  \n",
       "\n",
       "Coefficients:\n",
       "                Estimate Std. Error z value Pr(>|z|)    \n",
       "(Intercept)     1.740492   0.194519   8.948  < 2e-16 ***\n",
       "nse5f.L        -1.135245   0.049522 -22.924  < 2e-16 ***\n",
       "nse5f.Q        -0.192516   0.039620  -4.859 1.18e-06 ***\n",
       "nse5f.C        -0.097047   0.037984  -2.555 0.010621 *  \n",
       "nse5f^4         0.017179   0.037188   0.462 0.644107    \n",
       "areaZona rural -0.089011   0.041162  -2.162 0.030585 *  \n",
       "numpeho         0.176586   0.010707  16.493  < 2e-16 ***\n",
       "refinsí         0.395129   0.044673   8.845  < 2e-16 ***\n",
       "edadjef         0.001140   0.001240   0.920 0.357796    \n",
       "sexojefMujer    0.149462   0.041336   3.616 0.000299 ***\n",
       "añosedu        -0.051213   0.004514 -11.345  < 2e-16 ***\n",
       "ln_als         -0.091515   0.028626  -3.197 0.001389 ** \n",
       "ln_alns        -0.097472   0.016921  -5.761 8.39e-09 ***\n",
       "---\n",
       "Signif. codes:  0 '***' 0.001 '**' 0.01 '*' 0.05 '.' 0.1 ' ' 1\n",
       "\n",
       "(Dispersion parameter for binomial family taken to be 1)\n",
       "\n",
       "    Null deviance: 24373  on 20279  degrees of freedom\n",
       "Residual deviance: 22117  on 20267  degrees of freedom\n",
       "  (20529 observations deleted due to missingness)\n",
       "AIC: 22143\n",
       "\n",
       "Number of Fisher Scoring iterations: 4\n"
      ]
     },
     "metadata": {},
     "output_type": "display_data"
    }
   ],
   "source": [
    "m0 <- glm(IA ~ nse5f + area + numpeho + refin + edadjef + sexojef + añosedu + ln_als + ln_alns,\n",
    "         data = datos,\n",
    "         family = binomial)\n",
    "summary(m0)"
   ]
  },
  {
   "cell_type": "markdown",
   "id": "d646d0c4",
   "metadata": {},
   "source": [
    "En el modelo de primer orden, la disponibilidad de recursos financieros distintos del ingreso sí es un factor significativo, y el sexo y los años de educación del jefe de familia y el gasto en alimentos saludables y no saludables son significativos por sí mismos. Esto se explica porque la variabilidad observada es mejor explicada por las interacciones de los factores una vez que se toma en cuenta.\n",
    "\n",
    "Descartando los factores e interacciones que se encontraron no significativas, tenemos el siguiente modelo:"
   ]
  },
  {
   "cell_type": "code",
   "execution_count": 49,
   "id": "4da9a7df",
   "metadata": {},
   "outputs": [
    {
     "data": {
      "text/plain": [
       "\n",
       "Call:\n",
       "glm(formula = IA ~ nse5f + area + numpeho + añosedu + nse5f:numpeho + \n",
       "    nse5f:edadjef + nse5f:ln_als + nse5f:ln_alns + area:edadjef + \n",
       "    numpeho:añosedu + numpeho:ln_als + edadjef:sexojef, family = binomial, \n",
       "    data = datos)\n",
       "\n",
       "Deviance Residuals: \n",
       "    Min       1Q   Median       3Q      Max  \n",
       "-2.7664  -1.0554   0.6061   0.8156   1.7634  \n",
       "\n",
       "Coefficients:\n",
       "                          Estimate Std. Error z value Pr(>|z|)    \n",
       "(Intercept)              0.8219783  0.3688648   2.228 0.025854 *  \n",
       "nse5f.L                 -0.3321930  0.4259754  -0.780 0.435485    \n",
       "nse5f.Q                  1.2918995  0.4172007   3.097 0.001958 ** \n",
       "nse5f.C                 -0.0727779  0.4018773  -0.181 0.856293    \n",
       "nse5f^4                  0.1049406  0.4100867   0.256 0.798029    \n",
       "areaZona rural          -0.3174145  0.1303123  -2.436 0.014859 *  \n",
       "numpeho                  0.4738410  0.0956439   4.954 7.26e-07 ***\n",
       "añosedu                 -0.0759381  0.0095680  -7.937 2.08e-15 ***\n",
       "nse5f.L:numpeho          0.0439988  0.0265634   1.656 0.097647 .  \n",
       "nse5f.Q:numpeho         -0.0255851  0.0241963  -1.057 0.290329    \n",
       "nse5f.C:numpeho          0.0579313  0.0237367   2.441 0.014664 *  \n",
       "nse5f^4:numpeho          0.0271675  0.0238362   1.140 0.254387    \n",
       "nse5fBajo:edadjef        0.0070260  0.0035727   1.967 0.049231 *  \n",
       "nse5fMedio bajo:edadjef  0.0028840  0.0029545   0.976 0.328991    \n",
       "nse5fMedio:edadjef       0.0057022  0.0027552   2.070 0.038490 *  \n",
       "nse5fMedio alto:edadjef -0.0017194  0.0024476  -0.702 0.482384    \n",
       "nse5fAlto:edadjef       -0.0116872  0.0024773  -4.718 2.39e-06 ***\n",
       "nse5fBajo:ln_als         0.0554527  0.0835163   0.664 0.506706    \n",
       "nse5fMedio bajo:ln_als   0.1900539  0.0762637   2.492 0.012700 *  \n",
       "nse5fMedio:ln_als        0.2072624  0.0781700   2.651 0.008015 ** \n",
       "nse5fMedio alto:ln_als   0.1346266  0.0751376   1.792 0.073175 .  \n",
       "nse5fAlto:ln_als         0.0029850  0.0781621   0.038 0.969536    \n",
       "nse5fBajo:ln_alns       -0.0981744  0.0526361  -1.865 0.062160 .  \n",
       "nse5fMedio bajo:ln_alns -0.0778851  0.0437733  -1.779 0.075193 .  \n",
       "nse5fMedio:ln_alns      -0.1419623  0.0388588  -3.653 0.000259 ***\n",
       "nse5fMedio alto:ln_alns -0.0266347  0.0333335  -0.799 0.424268    \n",
       "nse5fAlto:ln_alns       -0.1282665  0.0308779  -4.154 3.27e-05 ***\n",
       "areaZona rural:edadjef   0.0043590  0.0026721   1.631 0.102831    \n",
       "numpeho:añosedu          0.0072233  0.0022500   3.210 0.001326 ** \n",
       "numpeho:ln_als          -0.0592054  0.0144024  -4.111 3.94e-05 ***\n",
       "edadjef:sexojefMujer     0.0021714  0.0008149   2.664 0.007712 ** \n",
       "---\n",
       "Signif. codes:  0 '***' 0.001 '**' 0.01 '*' 0.05 '.' 0.1 ' ' 1\n",
       "\n",
       "(Dispersion parameter for binomial family taken to be 1)\n",
       "\n",
       "    Null deviance: 24373  on 20279  degrees of freedom\n",
       "Residual deviance: 22097  on 20249  degrees of freedom\n",
       "  (20529 observations deleted due to missingness)\n",
       "AIC: 22159\n",
       "\n",
       "Number of Fisher Scoring iterations: 4\n"
      ]
     },
     "metadata": {},
     "output_type": "display_data"
    }
   ],
   "source": [
    "m2 <- glm(IA ~ nse5f + area + numpeho + añosedu +\n",
    "            nse5f:numpeho + nse5f:edadjef + nse5f:ln_als + nse5f:ln_alns +\n",
    "            area:edadjef +\n",
    "            numpeho:añosedu + numpeho:ln_als +\n",
    "            edadjef:sexojef,\n",
    "          data = datos,\n",
    "          family = binomial)\n",
    "summary(m2)"
   ]
  },
  {
   "cell_type": "markdown",
   "id": "51703ca8",
   "metadata": {},
   "source": [
    "En este nuevo modelo, pierde significancia el termino de interacción entre el área geográfica y la edad del jefe de familia, por lo que se descarta:"
   ]
  },
  {
   "cell_type": "code",
   "execution_count": 50,
   "id": "849116fd",
   "metadata": {},
   "outputs": [
    {
     "data": {
      "text/plain": [
       "\n",
       "Call:\n",
       "glm(formula = IA ~ nse5f + area + numpeho + añosedu + nse5f:numpeho + \n",
       "    nse5f:edadjef + nse5f:ln_als + nse5f:ln_alns + numpeho:añosedu + \n",
       "    numpeho:ln_als + edadjef:sexojef, family = binomial, data = datos)\n",
       "\n",
       "Deviance Residuals: \n",
       "    Min       1Q   Median       3Q      Max  \n",
       "-2.7505  -1.0541   0.6071   0.8155   1.7596  \n",
       "\n",
       "Coefficients:\n",
       "                          Estimate Std. Error z value Pr(>|z|)    \n",
       "(Intercept)              0.7598950  0.3668154   2.072 0.038303 *  \n",
       "nse5f.L                 -0.2324831  0.4216156  -0.551 0.581353    \n",
       "nse5f.Q                  1.2827956  0.4172400   3.074 0.002109 ** \n",
       "nse5f.C                 -0.0708361  0.4019901  -0.176 0.860126    \n",
       "nse5f^4                  0.1066218  0.4101872   0.260 0.794914    \n",
       "areaZona rural          -0.1156758  0.0413340  -2.799 0.005133 ** \n",
       "numpeho                  0.4714338  0.0956059   4.931 8.18e-07 ***\n",
       "añosedu                 -0.0761732  0.0095616  -7.967 1.63e-15 ***\n",
       "nse5f.L:numpeho          0.0448250  0.0265511   1.688 0.091363 .  \n",
       "nse5f.Q:numpeho         -0.0259801  0.0241894  -1.074 0.282810    \n",
       "nse5f.C:numpeho          0.0579391  0.0237322   2.441 0.014632 *  \n",
       "nse5f^4:numpeho          0.0272747  0.0238303   1.145 0.252399    \n",
       "nse5fBajo:edadjef        0.0097779  0.0031518   3.102 0.001920 ** \n",
       "nse5fMedio bajo:edadjef  0.0048760  0.0026904   1.812 0.069932 .  \n",
       "nse5fMedio:edadjef       0.0069925  0.0026398   2.649 0.008075 ** \n",
       "nse5fMedio alto:edadjef -0.0008558  0.0023900  -0.358 0.720301    \n",
       "nse5fAlto:edadjef       -0.0112910  0.0024648  -4.581 4.63e-06 ***\n",
       "nse5fBajo:ln_als         0.0577546  0.0834191   0.692 0.488722    \n",
       "nse5fMedio bajo:ln_als   0.1904600  0.0762627   2.497 0.012510 *  \n",
       "nse5fMedio:ln_als        0.2071275  0.0781794   2.649 0.008064 ** \n",
       "nse5fMedio alto:ln_als   0.1335127  0.0751363   1.777 0.075578 .  \n",
       "nse5fAlto:ln_als         0.0012584  0.0781452   0.016 0.987152    \n",
       "nse5fBajo:ln_alns       -0.0976566  0.0526258  -1.856 0.063499 .  \n",
       "nse5fMedio bajo:ln_alns -0.0763185  0.0437636  -1.744 0.081180 .  \n",
       "nse5fMedio:ln_alns      -0.1409705  0.0388505  -3.629 0.000285 ***\n",
       "nse5fMedio alto:ln_alns -0.0258937  0.0333265  -0.777 0.437176    \n",
       "nse5fAlto:ln_alns       -0.1281595  0.0308781  -4.151 3.32e-05 ***\n",
       "numpeho:añosedu          0.0072565  0.0022484   3.227 0.001249 ** \n",
       "numpeho:ln_als          -0.0589928  0.0143998  -4.097 4.19e-05 ***\n",
       "edadjef:sexojefMujer     0.0021116  0.0008141   2.594 0.009497 ** \n",
       "---\n",
       "Signif. codes:  0 '***' 0.001 '**' 0.01 '*' 0.05 '.' 0.1 ' ' 1\n",
       "\n",
       "(Dispersion parameter for binomial family taken to be 1)\n",
       "\n",
       "    Null deviance: 24373  on 20279  degrees of freedom\n",
       "Residual deviance: 22100  on 20250  degrees of freedom\n",
       "  (20529 observations deleted due to missingness)\n",
       "AIC: 22160\n",
       "\n",
       "Number of Fisher Scoring iterations: 4\n"
      ]
     },
     "metadata": {},
     "output_type": "display_data"
    }
   ],
   "source": [
    "m3 <- update(m2, ~ . - area:edadjef)\n",
    "summary(m3)"
   ]
  },
  {
   "cell_type": "markdown",
   "id": "c536ff8d",
   "metadata": {},
   "source": [
    "En este último modelo, todos los términos tienen una significancia superior al 0.05.\n",
    "\n",
    "Es de hacer notar que ciertos niveles socioeconómicos (variable categórica) no inciden sobre la posibilidad de que el hogar presente inseguridad alimentaria.\n",
    "\n",
    "Los coeficientes estimados representan los momios asociados a las variables (posibilidad de que se presente inseguridad alimentaria dividida entre la posibilidad de que no se presente). Un momio negativo representa una disminución de la probabilidad, y uno positivo, un incremento en la misma.\n",
    "\n",
    "Así, por ejemplo, vivir en una zona rural disminuye el momio de incidencia de la inseguridad alimentaria en un factor de 0.1157, mientras que por cada persona adicional que viva en un hogar, el momio se incrementa en un factor de 0.47.\n",
    "\n",
    "## 6) Conclusiones\n",
    "\n",
    "- Sorpresivamente, el incremento en el nivel socioeconómico del hogar aumenta la probabilidad de que se presente inseguridad alimentaria (momio positivo para el contraste cuadrático de nse5f).\n",
    "- En los hogares rurales es menos probable que se presente inseguridad alimentaria.\n",
    "- El incremento en el número de personas que viven en un hogar aumenta la probabilidad de que se resente inseguridad alimentaria.\n",
    "- A mayor grado de estudios del jefe de familia, menor probabilidad de que su hogar presente inseguridad alimentaria.\n",
    "- El incremento en la probabilidad de inseguridad alimentaria por el número de personas, se potencia con el incremento en el nivel socioeconómico del hogar (interacción cúbica nse5f.C:numpeho).\n",
    "- El incremento en la edad del jefe de familia aumenta la probabilidad de que el hogar presente inseguridad alimentaria en los niveles socioeconómicos bajo y medio, pero la disminuye en el nivel alto.\n",
    "- Sorpresivamente también, el incremento en el gasto en alimentos *saludables* aumenta la probabilidad de inseguridad alimentaria en hogares de nivel socieconómico medio bajo y medio, mientras que el aumento en el gasto en alimentos *no saludables* lo disminuye en los niveles socioeconómicos medio y alto.\n",
    "- No están claros los efectos de la interacción entre el número de personas en el hogar y los años de educación del jefe de familia y el gasto en alimentos saludables.\n",
    "- A mayor edad del jefe de familia, se incrementa el riesgo de que el hogar presente inseguridad alimentaria cuando el jefe de familia es mujer.\n"
   ]
  }
 ],
 "metadata": {
  "kernelspec": {
   "display_name": "R",
   "language": "R",
   "name": "ir"
  },
  "language_info": {
   "codemirror_mode": "r",
   "file_extension": ".r",
   "mimetype": "text/x-r-source",
   "name": "R",
   "pygments_lexer": "r",
   "version": "3.6.1"
  }
 },
 "nbformat": 4,
 "nbformat_minor": 5
}
